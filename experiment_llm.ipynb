{
 "cells": [
  {
   "cell_type": "code",
   "execution_count": 2,
   "id": "3e7022d2-cf81-4179-8a92-6d358725fb87",
   "metadata": {},
   "outputs": [],
   "source": [
    "import pandas as pd"
   ]
  },
  {
   "cell_type": "code",
   "execution_count": 4,
   "id": "fcf85327-5710-437b-abd3-97b9d9dbb8df",
   "metadata": {},
   "outputs": [],
   "source": [
    "df = pd.read_excel(\"C://Users//mhamu//Downloads//Assignment (1) (1)//Assignment//data.xlsx\")"
   ]
  },
  {
   "cell_type": "code",
   "execution_count": 2,
   "id": "fbc0c806-ba17-4d46-a192-829565fc2ad3",
   "metadata": {},
   "outputs": [],
   "source": [
    "\n",
    "def df_to_key_value_text(df):\n",
    "    \"\"\"\n",
    "    Converts a DataFrame to a text format where each row is represented as \n",
    "    consecutive lines of 'field: value' pairs.\n",
    "    \"\"\"\n",
    "    records_text = \"\"\n",
    "    for _, row in df.iterrows():\n",
    "        for col in df.columns:\n",
    "            records_text += f\"{col}: {row[col]}\\n\"\n",
    "        records_text += \"\\n\"  # Add a blank line to separate records\n",
    "    return records_text.strip()"
   ]
  },
  {
   "cell_type": "code",
   "execution_count": null,
   "id": "d12104a1-1774-4753-9205-67849f6d40cc",
   "metadata": {},
   "outputs": [],
   "source": []
  },
  {
   "cell_type": "code",
   "execution_count": 15,
   "id": "810d0b43-1cf2-4a81-9ae4-d064692eef25",
   "metadata": {},
   "outputs": [
    {
     "data": {
      "text/html": [
       "<div>\n",
       "<style scoped>\n",
       "    .dataframe tbody tr th:only-of-type {\n",
       "        vertical-align: middle;\n",
       "    }\n",
       "\n",
       "    .dataframe tbody tr th {\n",
       "        vertical-align: top;\n",
       "    }\n",
       "\n",
       "    .dataframe thead th {\n",
       "        text-align: right;\n",
       "    }\n",
       "</style>\n",
       "<table border=\"1\" class=\"dataframe\">\n",
       "  <thead>\n",
       "    <tr style=\"text-align: right;\">\n",
       "      <th></th>\n",
       "      <th>Site</th>\n",
       "      <th>Date</th>\n",
       "      <th>Invoice Number</th>\n",
       "      <th>Customer Code</th>\n",
       "      <th>Name</th>\n",
       "      <th>Item Code</th>\n",
       "      <th>Item Description</th>\n",
       "      <th>Quantity</th>\n",
       "    </tr>\n",
       "  </thead>\n",
       "  <tbody>\n",
       "    <tr>\n",
       "      <th>0</th>\n",
       "      <td>BABU</td>\n",
       "      <td>2024-01-02 00:00:00</td>\n",
       "      <td>SINBABU00133583</td>\n",
       "      <td>ABFIR004</td>\n",
       "      <td>FIRST PLACE (GUDU)</td>\n",
       "      <td>NBOMOATS16X350GPB</td>\n",
       "      <td>NUTRIBOM OATS 16X350G PB</td>\n",
       "      <td>2.0</td>\n",
       "    </tr>\n",
       "    <tr>\n",
       "      <th>1</th>\n",
       "      <td>BABU</td>\n",
       "      <td>2024-01-02 00:00:00</td>\n",
       "      <td>CCNBABU00005684</td>\n",
       "      <td>ABPER004</td>\n",
       "      <td>PER-VIN GLOBAL ENTERPRISES</td>\n",
       "      <td>HISTV43A4K</td>\n",
       "      <td>HIS TV 43 A4K FHD SMART</td>\n",
       "      <td>-1.0</td>\n",
       "    </tr>\n",
       "    <tr>\n",
       "      <th>2</th>\n",
       "      <td>BABU</td>\n",
       "      <td>2024-01-02 00:00:00</td>\n",
       "      <td>SINBABU00133583</td>\n",
       "      <td>ABFIR004</td>\n",
       "      <td>FIRST PLACE (GUDU)</td>\n",
       "      <td>NBOMMULTIGR16X350GPB</td>\n",
       "      <td>NUTRIBOM MULTIGRAIN 16X350G PB</td>\n",
       "      <td>15.0</td>\n",
       "    </tr>\n",
       "    <tr>\n",
       "      <th>3</th>\n",
       "      <td>BABU</td>\n",
       "      <td>2024-01-02 00:00:00</td>\n",
       "      <td>SINBABU00133585</td>\n",
       "      <td>ABHME001</td>\n",
       "      <td>H-MEDIX PHARMACY LTD</td>\n",
       "      <td>LILYULTRASOFTNR10X12</td>\n",
       "      <td>ULTRA SOFT NORMAL SP 10x12</td>\n",
       "      <td>1.0</td>\n",
       "    </tr>\n",
       "    <tr>\n",
       "      <th>4</th>\n",
       "      <td>BABU</td>\n",
       "      <td>2024-01-02 00:00:00</td>\n",
       "      <td>SINBABU00133583</td>\n",
       "      <td>ABFIR004</td>\n",
       "      <td>FIRST PLACE (GUDU)</td>\n",
       "      <td>NBOMMBANAPL16X350GPB</td>\n",
       "      <td>NUTRIBOM BANAN+APPLE16X350G PB</td>\n",
       "      <td>10.0</td>\n",
       "    </tr>\n",
       "  </tbody>\n",
       "</table>\n",
       "</div>"
      ],
      "text/plain": [
       "   Site                 Date   Invoice Number Customer Code  \\\n",
       "0  BABU  2024-01-02 00:00:00  SINBABU00133583      ABFIR004   \n",
       "1  BABU  2024-01-02 00:00:00  CCNBABU00005684      ABPER004   \n",
       "2  BABU  2024-01-02 00:00:00  SINBABU00133583      ABFIR004   \n",
       "3  BABU  2024-01-02 00:00:00  SINBABU00133585      ABHME001   \n",
       "4  BABU  2024-01-02 00:00:00  SINBABU00133583      ABFIR004   \n",
       "\n",
       "                         Name             Item Code  \\\n",
       "0          FIRST PLACE (GUDU)     NBOMOATS16X350GPB   \n",
       "1  PER-VIN GLOBAL ENTERPRISES            HISTV43A4K   \n",
       "2          FIRST PLACE (GUDU)  NBOMMULTIGR16X350GPB   \n",
       "3        H-MEDIX PHARMACY LTD  LILYULTRASOFTNR10X12   \n",
       "4          FIRST PLACE (GUDU)  NBOMMBANAPL16X350GPB   \n",
       "\n",
       "                 Item Description  Quantity  \n",
       "0        NUTRIBOM OATS 16X350G PB       2.0  \n",
       "1         HIS TV 43 A4K FHD SMART      -1.0  \n",
       "2  NUTRIBOM MULTIGRAIN 16X350G PB      15.0  \n",
       "3      ULTRA SOFT NORMAL SP 10x12       1.0  \n",
       "4  NUTRIBOM BANAN+APPLE16X350G PB      10.0  "
      ]
     },
     "execution_count": 15,
     "metadata": {},
     "output_type": "execute_result"
    }
   ],
   "source": [
    "df.head()"
   ]
  },
  {
   "cell_type": "code",
   "execution_count": 5,
   "id": "b408c603-a4eb-4d9c-abd6-401652af7069",
   "metadata": {},
   "outputs": [],
   "source": [
    "row_texts = df.apply(lambda row: ' | '.join(row.astype(str)), axis=1)\n"
   ]
  },
  {
   "cell_type": "code",
   "execution_count": 17,
   "id": "044fdfa1-903e-4b62-9261-bfa136b70d7c",
   "metadata": {},
   "outputs": [
    {
     "data": {
      "text/plain": [
       "0         BABU | 2024-01-02 00:00:00 | SINBABU00133583 |...\n",
       "1         BABU | 2024-01-02 00:00:00 | CCNBABU00005684 |...\n",
       "2         BABU | 2024-01-02 00:00:00 | SINBABU00133583 |...\n",
       "3         BABU | 2024-01-02 00:00:00 | SINBABU00133585 |...\n",
       "4         BABU | 2024-01-02 00:00:00 | SINBABU00133583 |...\n",
       "                                ...                        \n",
       "678020    SRAC | 2024-06-30 00:00:00 | SINSRAC00043495 |...\n",
       "678021    SRAC | 2024-06-30 00:00:00 | SINSRAC00043499 |...\n",
       "678022    SRAC | 2024-06-30 00:00:00 | SINSRAC00043500 |...\n",
       "678023    SWAR | 2024-06-30 00:00:00 | SINSWAR00038941 |...\n",
       "678024    SWAR | 2024-06-30 00:00:00 | SINSWAR00038943 |...\n",
       "Length: 678025, dtype: object"
      ]
     },
     "execution_count": 17,
     "metadata": {},
     "output_type": "execute_result"
    }
   ],
   "source": [
    "row_texts"
   ]
  },
  {
   "cell_type": "code",
   "execution_count": 13,
   "id": "24abf47a-c66c-445b-bd42-5d6f06278359",
   "metadata": {},
   "outputs": [
    {
     "ename": "NameError",
     "evalue": "name 'model' is not defined",
     "output_type": "error",
     "traceback": [
      "\u001b[31m---------------------------------------------------------------------------\u001b[39m",
      "\u001b[31mNameError\u001b[39m                                 Traceback (most recent call last)",
      "\u001b[36mCell\u001b[39m\u001b[36m \u001b[39m\u001b[32mIn[13]\u001b[39m\u001b[32m, line 5\u001b[39m\n\u001b[32m      2\u001b[39m \u001b[38;5;28;01mfrom\u001b[39;00m\u001b[38;5;250m \u001b[39m\u001b[34;01msentence_transformers\u001b[39;00m\u001b[38;5;250m \u001b[39m\u001b[38;5;28;01mimport\u001b[39;00m SentenceTransformer\n\u001b[32m      4\u001b[39m \u001b[38;5;66;03m# Generate embeddings for each row text\u001b[39;00m\n\u001b[32m----> \u001b[39m\u001b[32m5\u001b[39m embeddings = \u001b[43mmodel\u001b[49m.encode(row_texts, show_progress_bar=\u001b[38;5;28;01mTrue\u001b[39;00m)\n\u001b[32m      7\u001b[39m \u001b[38;5;66;03m# embeddings is a list of numpy arrays representing each row as a vector\u001b[39;00m\n\u001b[32m      8\u001b[39m \u001b[38;5;28mprint\u001b[39m(\u001b[33mf\u001b[39m\u001b[33m'\u001b[39m\u001b[33mGenerated embeddings for \u001b[39m\u001b[38;5;132;01m{\u001b[39;00m\u001b[38;5;28mlen\u001b[39m(embeddings)\u001b[38;5;132;01m}\u001b[39;00m\u001b[33m rows, each of dimension \u001b[39m\u001b[38;5;132;01m{\u001b[39;00membeddings[\u001b[32m0\u001b[39m].shape\u001b[38;5;132;01m}\u001b[39;00m\u001b[33m'\u001b[39m)\n",
      "\u001b[31mNameError\u001b[39m: name 'model' is not defined"
     ]
    }
   ],
   "source": [
    "\n",
    "# Load a pre-trained Sentence Transformer modelfrom sentence_transformers import SentenceTransformer\n",
    "from sentence_transformers import SentenceTransformer\n",
    "\n",
    "# Generate embeddings for each row text\n",
    "embeddings = model.encode(row_texts, show_progress_bar=True)\n",
    "\n",
    "# embeddings is a list of numpy arrays representing each row as a vector\n",
    "print(f'Generated embeddings for {len(embeddings)} rows, each of dimension {embeddings[0].shape}')"
   ]
  },
  {
   "cell_type": "code",
   "execution_count": 19,
   "id": "34f5b924-ba62-4645-bfcc-f44f357f9ea1",
   "metadata": {},
   "outputs": [
    {
     "name": "stdout",
     "output_type": "stream",
     "text": [
      "Collecting langchain_huggingface\n",
      "  Downloading langchain_huggingface-0.3.1-py3-none-any.whl.metadata (996 bytes)\n",
      "Requirement already satisfied: langchain-core<1.0.0,>=0.3.70 in c:\\users\\mhamu\\enterprise_chatbot_fn\\venv\\lib\\site-packages (from langchain_huggingface) (0.3.72)\n",
      "Requirement already satisfied: tokenizers>=0.19.1 in c:\\users\\mhamu\\enterprise_chatbot_fn\\venv\\lib\\site-packages (from langchain_huggingface) (0.21.2)\n",
      "Requirement already satisfied: huggingface-hub>=0.33.4 in c:\\users\\mhamu\\enterprise_chatbot_fn\\venv\\lib\\site-packages (from langchain_huggingface) (0.34.0)\n",
      "Requirement already satisfied: filelock in c:\\users\\mhamu\\enterprise_chatbot_fn\\venv\\lib\\site-packages (from huggingface-hub>=0.33.4->langchain_huggingface) (3.18.0)\n",
      "Requirement already satisfied: fsspec>=2023.5.0 in c:\\users\\mhamu\\enterprise_chatbot_fn\\venv\\lib\\site-packages (from huggingface-hub>=0.33.4->langchain_huggingface) (2025.7.0)\n",
      "Requirement already satisfied: packaging>=20.9 in c:\\users\\mhamu\\enterprise_chatbot_fn\\venv\\lib\\site-packages (from huggingface-hub>=0.33.4->langchain_huggingface) (25.0)\n",
      "Requirement already satisfied: pyyaml>=5.1 in c:\\users\\mhamu\\enterprise_chatbot_fn\\venv\\lib\\site-packages (from huggingface-hub>=0.33.4->langchain_huggingface) (6.0.2)\n",
      "Requirement already satisfied: requests in c:\\users\\mhamu\\enterprise_chatbot_fn\\venv\\lib\\site-packages (from huggingface-hub>=0.33.4->langchain_huggingface) (2.32.4)\n",
      "Requirement already satisfied: tqdm>=4.42.1 in c:\\users\\mhamu\\enterprise_chatbot_fn\\venv\\lib\\site-packages (from huggingface-hub>=0.33.4->langchain_huggingface) (4.67.1)\n",
      "Requirement already satisfied: typing-extensions>=3.7.4.3 in c:\\users\\mhamu\\enterprise_chatbot_fn\\venv\\lib\\site-packages (from huggingface-hub>=0.33.4->langchain_huggingface) (4.14.1)\n",
      "Requirement already satisfied: langsmith>=0.3.45 in c:\\users\\mhamu\\enterprise_chatbot_fn\\venv\\lib\\site-packages (from langchain-core<1.0.0,>=0.3.70->langchain_huggingface) (0.4.10)\n",
      "Requirement already satisfied: tenacity!=8.4.0,<10.0.0,>=8.1.0 in c:\\users\\mhamu\\enterprise_chatbot_fn\\venv\\lib\\site-packages (from langchain-core<1.0.0,>=0.3.70->langchain_huggingface) (9.1.2)\n",
      "Requirement already satisfied: jsonpatch<2.0,>=1.33 in c:\\users\\mhamu\\enterprise_chatbot_fn\\venv\\lib\\site-packages (from langchain-core<1.0.0,>=0.3.70->langchain_huggingface) (1.33)\n",
      "Requirement already satisfied: pydantic>=2.7.4 in c:\\users\\mhamu\\enterprise_chatbot_fn\\venv\\lib\\site-packages (from langchain-core<1.0.0,>=0.3.70->langchain_huggingface) (2.11.7)\n",
      "Requirement already satisfied: jsonpointer>=1.9 in c:\\users\\mhamu\\enterprise_chatbot_fn\\venv\\lib\\site-packages (from jsonpatch<2.0,>=1.33->langchain-core<1.0.0,>=0.3.70->langchain_huggingface) (3.0.0)\n",
      "Requirement already satisfied: httpx<1,>=0.23.0 in c:\\users\\mhamu\\enterprise_chatbot_fn\\venv\\lib\\site-packages (from langsmith>=0.3.45->langchain-core<1.0.0,>=0.3.70->langchain_huggingface) (0.28.1)\n",
      "Requirement already satisfied: orjson>=3.9.14 in c:\\users\\mhamu\\enterprise_chatbot_fn\\venv\\lib\\site-packages (from langsmith>=0.3.45->langchain-core<1.0.0,>=0.3.70->langchain_huggingface) (3.11.1)\n",
      "Requirement already satisfied: requests-toolbelt>=1.0.0 in c:\\users\\mhamu\\enterprise_chatbot_fn\\venv\\lib\\site-packages (from langsmith>=0.3.45->langchain-core<1.0.0,>=0.3.70->langchain_huggingface) (1.0.0)\n",
      "Requirement already satisfied: zstandard>=0.23.0 in c:\\users\\mhamu\\enterprise_chatbot_fn\\venv\\lib\\site-packages (from langsmith>=0.3.45->langchain-core<1.0.0,>=0.3.70->langchain_huggingface) (0.23.0)\n",
      "Requirement already satisfied: annotated-types>=0.6.0 in c:\\users\\mhamu\\enterprise_chatbot_fn\\venv\\lib\\site-packages (from pydantic>=2.7.4->langchain-core<1.0.0,>=0.3.70->langchain_huggingface) (0.7.0)\n",
      "Requirement already satisfied: pydantic-core==2.33.2 in c:\\users\\mhamu\\enterprise_chatbot_fn\\venv\\lib\\site-packages (from pydantic>=2.7.4->langchain-core<1.0.0,>=0.3.70->langchain_huggingface) (2.33.2)\n",
      "Requirement already satisfied: typing-inspection>=0.4.0 in c:\\users\\mhamu\\enterprise_chatbot_fn\\venv\\lib\\site-packages (from pydantic>=2.7.4->langchain-core<1.0.0,>=0.3.70->langchain_huggingface) (0.4.1)\n",
      "Requirement already satisfied: charset_normalizer<4,>=2 in c:\\users\\mhamu\\enterprise_chatbot_fn\\venv\\lib\\site-packages (from requests->huggingface-hub>=0.33.4->langchain_huggingface) (3.4.2)\n",
      "Requirement already satisfied: idna<4,>=2.5 in c:\\users\\mhamu\\enterprise_chatbot_fn\\venv\\lib\\site-packages (from requests->huggingface-hub>=0.33.4->langchain_huggingface) (3.10)\n",
      "Requirement already satisfied: urllib3<3,>=1.21.1 in c:\\users\\mhamu\\enterprise_chatbot_fn\\venv\\lib\\site-packages (from requests->huggingface-hub>=0.33.4->langchain_huggingface) (2.5.0)\n",
      "Requirement already satisfied: certifi>=2017.4.17 in c:\\users\\mhamu\\enterprise_chatbot_fn\\venv\\lib\\site-packages (from requests->huggingface-hub>=0.33.4->langchain_huggingface) (2025.7.14)\n",
      "Requirement already satisfied: colorama in c:\\users\\mhamu\\enterprise_chatbot_fn\\venv\\lib\\site-packages (from tqdm>=4.42.1->huggingface-hub>=0.33.4->langchain_huggingface) (0.4.6)\n",
      "Requirement already satisfied: anyio in c:\\users\\mhamu\\enterprise_chatbot_fn\\venv\\lib\\site-packages (from httpx<1,>=0.23.0->langsmith>=0.3.45->langchain-core<1.0.0,>=0.3.70->langchain_huggingface) (4.9.0)\n",
      "Requirement already satisfied: httpcore==1.* in c:\\users\\mhamu\\enterprise_chatbot_fn\\venv\\lib\\site-packages (from httpx<1,>=0.23.0->langsmith>=0.3.45->langchain-core<1.0.0,>=0.3.70->langchain_huggingface) (1.0.9)\n",
      "Requirement already satisfied: h11>=0.16 in c:\\users\\mhamu\\enterprise_chatbot_fn\\venv\\lib\\site-packages (from httpcore==1.*->httpx<1,>=0.23.0->langsmith>=0.3.45->langchain-core<1.0.0,>=0.3.70->langchain_huggingface) (0.16.0)\n",
      "Requirement already satisfied: sniffio>=1.1 in c:\\users\\mhamu\\enterprise_chatbot_fn\\venv\\lib\\site-packages (from anyio->httpx<1,>=0.23.0->langsmith>=0.3.45->langchain-core<1.0.0,>=0.3.70->langchain_huggingface) (1.3.1)\n",
      "Downloading langchain_huggingface-0.3.1-py3-none-any.whl (27 kB)\n",
      "Installing collected packages: langchain_huggingface\n",
      "Successfully installed langchain_huggingface-0.3.1\n",
      "Note: you may need to restart the kernel to use updated packages.\n"
     ]
    },
    {
     "name": "stderr",
     "output_type": "stream",
     "text": [
      "\n",
      "[notice] A new release of pip is available: 24.0 -> 25.2\n",
      "[notice] To update, run: python.exe -m pip install --upgrade pip\n"
     ]
    }
   ],
   "source": [
    "pip install langchain_huggingface"
   ]
  },
  {
   "cell_type": "code",
   "execution_count": 20,
   "id": "5f8028df-b312-404d-a9d1-2d61ff669529",
   "metadata": {},
   "outputs": [],
   "source": [
    "from langchain_huggingface import HuggingFaceEmbeddings\n",
    "\n",
    "model_name = \"sentence-transformers/all-mpnet-base-v2\"\n",
    "model_kwargs = {'device': 'cpu'}\n",
    "encode_kwargs = {'normalize_embeddings': False}\n",
    "hf = HuggingFaceEmbeddings(\n",
    "    model_name=model_name,\n",
    "    model_kwargs=model_kwargs,\n",
    "    encode_kwargs=encode_kwargs\n",
    ")\n"
   ]
  },
  {
   "cell_type": "code",
   "execution_count": 1,
   "id": "00eef94b-15ce-44e5-a253-0194c61dab93",
   "metadata": {},
   "outputs": [
    {
     "ename": "NameError",
     "evalue": "name 'row_texts' is not defined",
     "output_type": "error",
     "traceback": [
      "\u001b[31m---------------------------------------------------------------------------\u001b[39m",
      "\u001b[31mNameError\u001b[39m                                 Traceback (most recent call last)",
      "\u001b[36mCell\u001b[39m\u001b[36m \u001b[39m\u001b[32mIn[1]\u001b[39m\u001b[32m, line 2\u001b[39m\n\u001b[32m      1\u001b[39m \u001b[38;5;28;01mwith\u001b[39;00m \u001b[38;5;28mopen\u001b[39m(\u001b[33m'\u001b[39m\u001b[33mrow_texts.txt\u001b[39m\u001b[33m'\u001b[39m, \u001b[33m'\u001b[39m\u001b[33mw\u001b[39m\u001b[33m'\u001b[39m, encoding=\u001b[33m'\u001b[39m\u001b[33mutf-8\u001b[39m\u001b[33m'\u001b[39m) \u001b[38;5;28;01mas\u001b[39;00m f:\n\u001b[32m----> \u001b[39m\u001b[32m2\u001b[39m     f.write(\u001b[43mrow_texts\u001b[49m)\n\u001b[32m      4\u001b[39m \u001b[38;5;28mprint\u001b[39m(\u001b[33m\"\u001b[39m\u001b[33mSaved row texts to \u001b[39m\u001b[33m'\u001b[39m\u001b[33mrow_texts.txt\u001b[39m\u001b[33m'\u001b[39m\u001b[33m\"\u001b[39m)\n",
      "\u001b[31mNameError\u001b[39m: name 'row_texts' is not defined"
     ]
    }
   ],
   "source": [
    "with open('row_texts.txt', 'w', encoding='utf-8') as f:\n",
    "    f.write(row_texts)\n",
    "\n",
    "print(\"Saved row texts to 'row_texts.txt'\")"
   ]
  },
  {
   "cell_type": "code",
   "execution_count": null,
   "id": "3efd2dcf-ab6f-41f8-985d-f715c657cbab",
   "metadata": {},
   "outputs": [],
   "source": [
    "from sentence_transformers import SentenceTransformer\n",
    "\n",
    "# Load your Excel data into a list of strings ('texts'), for example using LangChain or pandas\n",
    "\n",
    "model = SentenceTransformer('sentence-transformers/all-mpnet-base-v2')\n",
    "\n",
    "embeddings = model.encode(row_texts, convert_to_numpy=True, show_progress_bar=True)\n",
    "\n",
    "print(embeddings.shape)  # (num_texts, 768)\n"
   ]
  },
  {
   "cell_type": "code",
   "execution_count": 4,
   "id": "7d8a8c15-c54b-4d7e-a2c8-d1096293e6ca",
   "metadata": {},
   "outputs": [
    {
     "name": "stdout",
     "output_type": "stream",
     "text": [
      "Collecting https://github.com/google/sentencepiece#installation\n",
      "  Downloading https://github.com/google/sentencepiece\n",
      "     - 0 bytes ? 0:00:00\n",
      "     - 348.2 kB 10.9 MB/s 0:00:00\n",
      "     - 392.0 kB 12.3 MB/s 0:00:00\n",
      "Note: you may need to restart the kernel to use updated packages.\n"
     ]
    },
    {
     "name": "stderr",
     "output_type": "stream",
     "text": [
      "  ERROR: Cannot unpack file C:\\Users\\mhamu\\AppData\\Local\\Temp\\pip-unpack-kayo7xsr\\sentencepiece (downloaded from C:\\Users\\mhamu\\AppData\\Local\\Temp\\pip-req-build-jdq42zd6, content-type: text/html; charset=utf-8); cannot detect archive format\n",
      "ERROR: Cannot determine archive format of C:\\Users\\mhamu\\AppData\\Local\\Temp\\pip-req-build-jdq42zd6\n",
      "\n",
      "[notice] A new release of pip is available: 24.0 -> 25.2\n",
      "[notice] To update, run: python.exe -m pip install --upgrade pip\n"
     ]
    }
   ],
   "source": [
    "pip install https://github.com/google/sentencepiece#installation"
   ]
  },
  {
   "cell_type": "code",
   "execution_count": 11,
   "id": "7ec304cb-37a3-4b73-b478-146db1b3cf5f",
   "metadata": {},
   "outputs": [
    {
     "ename": "NameError",
     "evalue": "name 'embeddings' is not defined",
     "output_type": "error",
     "traceback": [
      "\u001b[31m---------------------------------------------------------------------------\u001b[39m",
      "\u001b[31mNameError\u001b[39m                                 Traceback (most recent call last)",
      "\u001b[36mCell\u001b[39m\u001b[36m \u001b[39m\u001b[32mIn[11]\u001b[39m\u001b[32m, line 5\u001b[39m\n\u001b[32m      2\u001b[39m \u001b[38;5;28;01mimport\u001b[39;00m\u001b[38;5;250m \u001b[39m\u001b[34;01mfaiss\u001b[39;00m\n\u001b[32m      3\u001b[39m \u001b[38;5;28;01mimport\u001b[39;00m\u001b[38;5;250m \u001b[39m\u001b[34;01mnumpy\u001b[39;00m\u001b[38;5;250m \u001b[39m\u001b[38;5;28;01mas\u001b[39;00m\u001b[38;5;250m \u001b[39m\u001b[34;01mnp\u001b[39;00m\n\u001b[32m----> \u001b[39m\u001b[32m5\u001b[39m dimension = \u001b[38;5;28mlen\u001b[39m(\u001b[43membeddings\u001b[49m[\u001b[32m0\u001b[39m])\n\u001b[32m      6\u001b[39m index = faiss.IndexFlatL2(dimension)  \u001b[38;5;66;03m# or other index types for large scale\u001b[39;00m\n\u001b[32m      7\u001b[39m index.add(np.array(embeddings).astype(\u001b[33m'\u001b[39m\u001b[33mfloat32\u001b[39m\u001b[33m'\u001b[39m))\n",
      "\u001b[31mNameError\u001b[39m: name 'embeddings' is not defined"
     ]
    }
   ],
   "source": [
    "# 2. Store embeddings in a vector database (e.g., FAISS)\n",
    "import faiss\n",
    "import numpy as np\n",
    "\n",
    "dimension = len(embeddings[0])\n",
    "index = faiss.IndexFlatL2(dimension)  # or other index types for large scale\n",
    "index.add(np.array(embeddings).astype('float32'))\n"
   ]
  },
  {
   "cell_type": "code",
   "execution_count": 9,
   "id": "c82ced0f-9bfe-4294-99db-b5ecf93cb472",
   "metadata": {},
   "outputs": [
    {
     "ename": "NameError",
     "evalue": "name 'model' is not defined",
     "output_type": "error",
     "traceback": [
      "\u001b[31m---------------------------------------------------------------------------\u001b[39m",
      "\u001b[31mNameError\u001b[39m                                 Traceback (most recent call last)",
      "\u001b[36mCell\u001b[39m\u001b[36m \u001b[39m\u001b[32mIn[9]\u001b[39m\u001b[32m, line 3\u001b[39m\n\u001b[32m      1\u001b[39m \u001b[38;5;66;03m# 3. For each query, generate embedding\u001b[39;00m\n\u001b[32m      2\u001b[39m query = \u001b[33m\"\u001b[39m\u001b[33mWhat was the net profit for Q1 2024?\u001b[39m\u001b[33m\"\u001b[39m\n\u001b[32m----> \u001b[39m\u001b[32m3\u001b[39m query_embedding = \u001b[43mmodel\u001b[49m.encode([query])[\u001b[32m0\u001b[39m].astype(\u001b[33m'\u001b[39m\u001b[33mfloat32\u001b[39m\u001b[33m'\u001b[39m)\n\u001b[32m      5\u001b[39m \u001b[38;5;66;03m# 4. Search for top k similar rows\u001b[39;00m\n\u001b[32m      6\u001b[39m k = \u001b[32m5\u001b[39m\n",
      "\u001b[31mNameError\u001b[39m: name 'model' is not defined"
     ]
    }
   ],
   "source": [
    "# 3. For each query, generate embedding\n",
    "query = \"What was the net profit for Q1 2024?\"\n",
    "query_embedding = model.encode([query])[0].astype('float32')\n",
    "\n",
    "# 4. Search for top k similar rows\n",
    "k = 5\n",
    "distances, indices = index.search(np.array([query_embedding]), k)\n",
    "\n",
    "# 5. Retrieve rows corresponding to indices and pass to an LLM for answer\n",
    "relevant_rows = [row_texts[i] for i in indices[0]]"
   ]
  },
  {
   "cell_type": "code",
   "execution_count": 8,
   "id": "ff1df0b3-27ad-4731-bc0c-8a8617478ac6",
   "metadata": {},
   "outputs": [
    {
     "ename": "NameError",
     "evalue": "name 'relevant_rows' is not defined",
     "output_type": "error",
     "traceback": [
      "\u001b[31m---------------------------------------------------------------------------\u001b[39m",
      "\u001b[31mNameError\u001b[39m                                 Traceback (most recent call last)",
      "\u001b[36mCell\u001b[39m\u001b[36m \u001b[39m\u001b[32mIn[8]\u001b[39m\u001b[32m, line 1\u001b[39m\n\u001b[32m----> \u001b[39m\u001b[32m1\u001b[39m \u001b[43mrelevant_rows\u001b[49m\n",
      "\u001b[31mNameError\u001b[39m: name 'relevant_rows' is not defined"
     ]
    }
   ],
   "source": [
    "relevant_rows"
   ]
  },
  {
   "cell_type": "code",
   "execution_count": 16,
   "id": "30612310-47c2-4bfc-b25b-00b364d6bf0f",
   "metadata": {},
   "outputs": [
    {
     "name": "stdout",
     "output_type": "stream",
     "text": [
      "Collecting faiss-cpu\n",
      "  Downloading faiss_cpu-1.11.0.post1-cp312-cp312-win_amd64.whl.metadata (5.1 kB)\n",
      "Requirement already satisfied: numpy<3.0,>=1.25.0 in c:\\users\\mhamu\\enterprise_chatbot_fn\\venv\\lib\\site-packages (from faiss-cpu) (2.2.6)\n",
      "Requirement already satisfied: packaging in c:\\users\\mhamu\\enterprise_chatbot_fn\\venv\\lib\\site-packages (from faiss-cpu) (25.0)\n",
      "Downloading faiss_cpu-1.11.0.post1-cp312-cp312-win_amd64.whl (14.9 MB)\n",
      "   ---------------------------------------- 0.0/14.9 MB ? eta -:--:--\n",
      "   ---------------------------------------- 0.0/14.9 MB ? eta -:--:--\n",
      "   ---------------------------------------- 0.0/14.9 MB ? eta -:--:--\n",
      "   ---------------------------------------- 0.0/14.9 MB ? eta -:--:--\n",
      "   ---------------------------------------- 0.0/14.9 MB 393.8 kB/s eta 0:00:38\n",
      "    --------------------------------------- 0.3/14.9 MB 2.1 MB/s eta 0:00:07\n",
      "   - -------------------------------------- 0.6/14.9 MB 3.3 MB/s eta 0:00:05\n",
      "   -- ------------------------------------- 0.9/14.9 MB 4.2 MB/s eta 0:00:04\n",
      "   --- ------------------------------------ 1.3/14.9 MB 4.8 MB/s eta 0:00:03\n",
      "   ---- ----------------------------------- 1.6/14.9 MB 5.1 MB/s eta 0:00:03\n",
      "   ----- ---------------------------------- 1.9/14.9 MB 5.4 MB/s eta 0:00:03\n",
      "   ------ --------------------------------- 2.3/14.9 MB 5.7 MB/s eta 0:00:03\n",
      "   ------- -------------------------------- 2.7/14.9 MB 5.8 MB/s eta 0:00:03\n",
      "   -------- ------------------------------- 3.0/14.9 MB 6.1 MB/s eta 0:00:02\n",
      "   -------- ------------------------------- 3.3/14.9 MB 6.0 MB/s eta 0:00:02\n",
      "   --------- ------------------------------ 3.6/14.9 MB 6.1 MB/s eta 0:00:02\n",
      "   ---------- ----------------------------- 3.9/14.9 MB 6.1 MB/s eta 0:00:02\n",
      "   ----------- ---------------------------- 4.3/14.9 MB 6.2 MB/s eta 0:00:02\n",
      "   ------------ --------------------------- 4.6/14.9 MB 6.2 MB/s eta 0:00:02\n",
      "   ------------ --------------------------- 4.8/14.9 MB 6.2 MB/s eta 0:00:02\n",
      "   ------------- -------------------------- 5.0/14.9 MB 6.3 MB/s eta 0:00:02\n",
      "   -------------- ------------------------- 5.3/14.9 MB 6.3 MB/s eta 0:00:02\n",
      "   --------------- ------------------------ 5.6/14.9 MB 6.3 MB/s eta 0:00:02\n",
      "   --------------- ------------------------ 5.9/14.9 MB 6.2 MB/s eta 0:00:02\n",
      "   ---------------- ----------------------- 6.2/14.9 MB 6.3 MB/s eta 0:00:02\n",
      "   ----------------- ---------------------- 6.6/14.9 MB 6.4 MB/s eta 0:00:02\n",
      "   ------------------ --------------------- 6.8/14.9 MB 6.3 MB/s eta 0:00:02\n",
      "   ------------------- -------------------- 7.2/14.9 MB 6.4 MB/s eta 0:00:02\n",
      "   ------------------- -------------------- 7.4/14.9 MB 6.3 MB/s eta 0:00:02\n",
      "   -------------------- ------------------- 7.7/14.9 MB 6.4 MB/s eta 0:00:02\n",
      "   --------------------- ------------------ 8.0/14.9 MB 6.3 MB/s eta 0:00:02\n",
      "   ---------------------- ----------------- 8.3/14.9 MB 6.3 MB/s eta 0:00:02\n",
      "   ----------------------- ---------------- 8.7/14.9 MB 6.4 MB/s eta 0:00:01\n",
      "   ----------------------- ---------------- 8.9/14.9 MB 6.4 MB/s eta 0:00:01\n",
      "   ------------------------ --------------- 9.2/14.9 MB 6.3 MB/s eta 0:00:01\n",
      "   ------------------------- -------------- 9.5/14.9 MB 6.3 MB/s eta 0:00:01\n",
      "   -------------------------- ------------- 9.7/14.9 MB 6.3 MB/s eta 0:00:01\n",
      "   --------------------------- ------------ 10.1/14.9 MB 6.3 MB/s eta 0:00:01\n",
      "   ---------------------------- ----------- 10.4/14.9 MB 6.7 MB/s eta 0:00:01\n",
      "   ---------------------------- ----------- 10.7/14.9 MB 6.7 MB/s eta 0:00:01\n",
      "   ----------------------------- ---------- 11.1/14.9 MB 6.7 MB/s eta 0:00:01\n",
      "   ------------------------------ --------- 11.4/14.9 MB 6.7 MB/s eta 0:00:01\n",
      "   ------------------------------- -------- 11.7/14.9 MB 6.7 MB/s eta 0:00:01\n",
      "   -------------------------------- ------- 12.1/14.9 MB 6.7 MB/s eta 0:00:01\n",
      "   --------------------------------- ------ 12.3/14.9 MB 6.6 MB/s eta 0:00:01\n",
      "   ---------------------------------- ----- 12.7/14.9 MB 6.7 MB/s eta 0:00:01\n",
      "   ---------------------------------- ----- 13.0/14.9 MB 6.6 MB/s eta 0:00:01\n",
      "   ----------------------------------- ---- 13.3/14.9 MB 6.6 MB/s eta 0:00:01\n",
      "   ------------------------------------ --- 13.7/14.9 MB 6.7 MB/s eta 0:00:01\n",
      "   ------------------------------------- -- 14.0/14.9 MB 6.7 MB/s eta 0:00:01\n",
      "   -------------------------------------- - 14.2/14.9 MB 6.7 MB/s eta 0:00:01\n",
      "   ---------------------------------------  14.6/14.9 MB 6.6 MB/s eta 0:00:01\n",
      "   ---------------------------------------  14.8/14.9 MB 6.5 MB/s eta 0:00:01\n",
      "   ---------------------------------------- 14.9/14.9 MB 6.4 MB/s eta 0:00:00\n",
      "Installing collected packages: faiss-cpu\n",
      "Successfully installed faiss-cpu-1.11.0.post1\n",
      "Note: you may need to restart the kernel to use updated packages.\n"
     ]
    },
    {
     "name": "stderr",
     "output_type": "stream",
     "text": [
      "\n",
      "[notice] A new release of pip is available: 24.0 -> 25.2\n",
      "[notice] To update, run: python.exe -m pip install --upgrade pip\n"
     ]
    }
   ],
   "source": [
    "pip install faiss-cpu"
   ]
  },
  {
   "cell_type": "code",
   "execution_count": 7,
   "id": "b7d8c2fc-fb23-4abd-b00b-4c039544a909",
   "metadata": {},
   "outputs": [
    {
     "ename": "ImportError",
     "evalue": "cannot import name 'UnstructuredExcelloader' from 'langchain_community.document_loaders' (C:\\Users\\mhamu\\enterprise_chatbot_fn\\venv\\Lib\\site-packages\\langchain_community\\document_loaders\\__init__.py)",
     "output_type": "error",
     "traceback": [
      "\u001b[31m---------------------------------------------------------------------------\u001b[39m",
      "\u001b[31mImportError\u001b[39m                               Traceback (most recent call last)",
      "\u001b[36mCell\u001b[39m\u001b[36m \u001b[39m\u001b[32mIn[7]\u001b[39m\u001b[32m, line 1\u001b[39m\n\u001b[32m----> \u001b[39m\u001b[32m1\u001b[39m \u001b[38;5;28;01mfrom\u001b[39;00m\u001b[38;5;250m \u001b[39m\u001b[34;01mlangchain_community\u001b[39;00m\u001b[34;01m.\u001b[39;00m\u001b[34;01mdocument_loaders\u001b[39;00m\u001b[38;5;250m \u001b[39m\u001b[38;5;28;01mimport\u001b[39;00m UnstructuredExcelloader\n\u001b[32m      2\u001b[39m \u001b[38;5;28;01mfrom\u001b[39;00m\u001b[38;5;250m \u001b[39m\u001b[34;01mlangchain\u001b[39;00m\u001b[34;01m.\u001b[39;00m\u001b[34;01mtext_splitter\u001b[39;00m\u001b[38;5;250m \u001b[39m\u001b[38;5;28;01mimport\u001b[39;00m RecursiveCharacterTextSplitter\n\u001b[32m      3\u001b[39m \u001b[38;5;28;01mfrom\u001b[39;00m\u001b[38;5;250m \u001b[39m\u001b[34;01mlangchain\u001b[39;00m\u001b[34;01m.\u001b[39;00m\u001b[34;01mvectorstores\u001b[39;00m\u001b[34;01m.\u001b[39;00m\u001b[34;01mfaiss\u001b[39;00m\u001b[38;5;250m \u001b[39m\u001b[38;5;28;01mimport\u001b[39;00m FAISS\n",
      "\u001b[31mImportError\u001b[39m: cannot import name 'UnstructuredExcelloader' from 'langchain_community.document_loaders' (C:\\Users\\mhamu\\enterprise_chatbot_fn\\venv\\Lib\\site-packages\\langchain_community\\document_loaders\\__init__.py)"
     ]
    }
   ],
   "source": [
    "from langchain_community.document_loaders import UnstructuredExcelloader\n",
    "from langchain.text_splitter import RecursiveCharacterTextSplitter\n",
    "from langchain.vectorstores.faiss import FAISS\n",
    "from IPython.display import display,Markdown"
   ]
  },
  {
   "cell_type": "code",
   "execution_count": 5,
   "id": "3609c310-0e37-420f-b827-3ee466c6301e",
   "metadata": {},
   "outputs": [
    {
     "name": "stdout",
     "output_type": "stream",
     "text": [
      "Collecting langchain-community\n",
      "  Downloading langchain_community-0.3.27-py3-none-any.whl.metadata (2.9 kB)\n",
      "Collecting langchain-core<1.0.0,>=0.3.66 (from langchain-community)\n",
      "  Downloading langchain_core-0.3.72-py3-none-any.whl.metadata (5.8 kB)\n",
      "Collecting langchain<1.0.0,>=0.3.26 (from langchain-community)\n",
      "  Downloading langchain-0.3.27-py3-none-any.whl.metadata (7.8 kB)\n",
      "Requirement already satisfied: SQLAlchemy<3,>=1.4 in c:\\users\\mhamu\\enterprise_chatbot_fn\\venv\\lib\\site-packages (from langchain-community) (2.0.41)\n",
      "Requirement already satisfied: requests<3,>=2 in c:\\users\\mhamu\\enterprise_chatbot_fn\\venv\\lib\\site-packages (from langchain-community) (2.32.4)\n",
      "Requirement already satisfied: PyYAML>=5.3 in c:\\users\\mhamu\\enterprise_chatbot_fn\\venv\\lib\\site-packages (from langchain-community) (6.0.2)\n",
      "Requirement already satisfied: aiohttp<4.0.0,>=3.8.3 in c:\\users\\mhamu\\enterprise_chatbot_fn\\venv\\lib\\site-packages (from langchain-community) (3.12.14)\n",
      "Collecting tenacity!=8.4.0,<10,>=8.1.0 (from langchain-community)\n",
      "  Using cached tenacity-9.1.2-py3-none-any.whl.metadata (1.2 kB)\n",
      "Collecting dataclasses-json<0.7,>=0.5.7 (from langchain-community)\n",
      "  Using cached dataclasses_json-0.6.7-py3-none-any.whl.metadata (25 kB)\n",
      "Requirement already satisfied: pydantic-settings<3.0.0,>=2.4.0 in c:\\users\\mhamu\\enterprise_chatbot_fn\\venv\\lib\\site-packages (from langchain-community) (2.10.1)\n",
      "Collecting langsmith>=0.1.125 (from langchain-community)\n",
      "  Downloading langsmith-0.4.10-py3-none-any.whl.metadata (14 kB)\n",
      "Collecting httpx-sse<1.0.0,>=0.4.0 (from langchain-community)\n",
      "  Downloading httpx_sse-0.4.1-py3-none-any.whl.metadata (9.4 kB)\n",
      "Requirement already satisfied: numpy>=1.26.2 in c:\\users\\mhamu\\enterprise_chatbot_fn\\venv\\lib\\site-packages (from langchain-community) (2.2.6)\n",
      "Requirement already satisfied: aiohappyeyeballs>=2.5.0 in c:\\users\\mhamu\\enterprise_chatbot_fn\\venv\\lib\\site-packages (from aiohttp<4.0.0,>=3.8.3->langchain-community) (2.6.1)\n",
      "Requirement already satisfied: aiosignal>=1.4.0 in c:\\users\\mhamu\\enterprise_chatbot_fn\\venv\\lib\\site-packages (from aiohttp<4.0.0,>=3.8.3->langchain-community) (1.4.0)\n",
      "Requirement already satisfied: attrs>=17.3.0 in c:\\users\\mhamu\\enterprise_chatbot_fn\\venv\\lib\\site-packages (from aiohttp<4.0.0,>=3.8.3->langchain-community) (25.3.0)\n",
      "Requirement already satisfied: frozenlist>=1.1.1 in c:\\users\\mhamu\\enterprise_chatbot_fn\\venv\\lib\\site-packages (from aiohttp<4.0.0,>=3.8.3->langchain-community) (1.7.0)\n",
      "Requirement already satisfied: multidict<7.0,>=4.5 in c:\\users\\mhamu\\enterprise_chatbot_fn\\venv\\lib\\site-packages (from aiohttp<4.0.0,>=3.8.3->langchain-community) (6.6.3)\n",
      "Requirement already satisfied: propcache>=0.2.0 in c:\\users\\mhamu\\enterprise_chatbot_fn\\venv\\lib\\site-packages (from aiohttp<4.0.0,>=3.8.3->langchain-community) (0.3.2)\n",
      "Requirement already satisfied: yarl<2.0,>=1.17.0 in c:\\users\\mhamu\\enterprise_chatbot_fn\\venv\\lib\\site-packages (from aiohttp<4.0.0,>=3.8.3->langchain-community) (1.20.1)\n",
      "Collecting marshmallow<4.0.0,>=3.18.0 (from dataclasses-json<0.7,>=0.5.7->langchain-community)\n",
      "  Using cached marshmallow-3.26.1-py3-none-any.whl.metadata (7.3 kB)\n",
      "Collecting typing-inspect<1,>=0.4.0 (from dataclasses-json<0.7,>=0.5.7->langchain-community)\n",
      "  Using cached typing_inspect-0.9.0-py3-none-any.whl.metadata (1.5 kB)\n",
      "Collecting langchain-text-splitters<1.0.0,>=0.3.9 (from langchain<1.0.0,>=0.3.26->langchain-community)\n",
      "  Downloading langchain_text_splitters-0.3.9-py3-none-any.whl.metadata (1.9 kB)\n",
      "Requirement already satisfied: pydantic<3.0.0,>=2.7.4 in c:\\users\\mhamu\\enterprise_chatbot_fn\\venv\\lib\\site-packages (from langchain<1.0.0,>=0.3.26->langchain-community) (2.11.7)\n",
      "Collecting jsonpatch<2.0,>=1.33 (from langchain-core<1.0.0,>=0.3.66->langchain-community)\n",
      "  Using cached jsonpatch-1.33-py2.py3-none-any.whl.metadata (3.0 kB)\n",
      "Requirement already satisfied: typing-extensions>=4.7 in c:\\users\\mhamu\\enterprise_chatbot_fn\\venv\\lib\\site-packages (from langchain-core<1.0.0,>=0.3.66->langchain-community) (4.14.1)\n",
      "Requirement already satisfied: packaging>=23.2 in c:\\users\\mhamu\\enterprise_chatbot_fn\\venv\\lib\\site-packages (from langchain-core<1.0.0,>=0.3.66->langchain-community) (25.0)\n",
      "Requirement already satisfied: httpx<1,>=0.23.0 in c:\\users\\mhamu\\enterprise_chatbot_fn\\venv\\lib\\site-packages (from langsmith>=0.1.125->langchain-community) (0.28.1)\n",
      "Collecting orjson>=3.9.14 (from langsmith>=0.1.125->langchain-community)\n",
      "  Downloading orjson-3.11.1-cp312-cp312-win_amd64.whl.metadata (43 kB)\n",
      "     ---------------------------------------- 0.0/43.2 kB ? eta -:--:--\n",
      "     ---------------------------- ----------- 30.7/43.2 kB 1.3 MB/s eta 0:00:01\n",
      "     ---------------------------------------- 43.2/43.2 kB 1.0 MB/s eta 0:00:00\n",
      "Collecting requests-toolbelt>=1.0.0 (from langsmith>=0.1.125->langchain-community)\n",
      "  Using cached requests_toolbelt-1.0.0-py2.py3-none-any.whl.metadata (14 kB)\n",
      "Collecting zstandard>=0.23.0 (from langsmith>=0.1.125->langchain-community)\n",
      "  Using cached zstandard-0.23.0-cp312-cp312-win_amd64.whl.metadata (3.0 kB)\n",
      "Requirement already satisfied: python-dotenv>=0.21.0 in c:\\users\\mhamu\\enterprise_chatbot_fn\\venv\\lib\\site-packages (from pydantic-settings<3.0.0,>=2.4.0->langchain-community) (1.1.1)\n",
      "Requirement already satisfied: typing-inspection>=0.4.0 in c:\\users\\mhamu\\enterprise_chatbot_fn\\venv\\lib\\site-packages (from pydantic-settings<3.0.0,>=2.4.0->langchain-community) (0.4.1)\n",
      "Requirement already satisfied: charset_normalizer<4,>=2 in c:\\users\\mhamu\\enterprise_chatbot_fn\\venv\\lib\\site-packages (from requests<3,>=2->langchain-community) (3.4.2)\n",
      "Requirement already satisfied: idna<4,>=2.5 in c:\\users\\mhamu\\enterprise_chatbot_fn\\venv\\lib\\site-packages (from requests<3,>=2->langchain-community) (3.10)\n",
      "Requirement already satisfied: urllib3<3,>=1.21.1 in c:\\users\\mhamu\\enterprise_chatbot_fn\\venv\\lib\\site-packages (from requests<3,>=2->langchain-community) (2.5.0)\n",
      "Requirement already satisfied: certifi>=2017.4.17 in c:\\users\\mhamu\\enterprise_chatbot_fn\\venv\\lib\\site-packages (from requests<3,>=2->langchain-community) (2025.7.14)\n",
      "Requirement already satisfied: greenlet>=1 in c:\\users\\mhamu\\enterprise_chatbot_fn\\venv\\lib\\site-packages (from SQLAlchemy<3,>=1.4->langchain-community) (3.2.3)\n",
      "Requirement already satisfied: anyio in c:\\users\\mhamu\\enterprise_chatbot_fn\\venv\\lib\\site-packages (from httpx<1,>=0.23.0->langsmith>=0.1.125->langchain-community) (4.9.0)\n",
      "Requirement already satisfied: httpcore==1.* in c:\\users\\mhamu\\enterprise_chatbot_fn\\venv\\lib\\site-packages (from httpx<1,>=0.23.0->langsmith>=0.1.125->langchain-community) (1.0.9)\n",
      "Requirement already satisfied: h11>=0.16 in c:\\users\\mhamu\\enterprise_chatbot_fn\\venv\\lib\\site-packages (from httpcore==1.*->httpx<1,>=0.23.0->langsmith>=0.1.125->langchain-community) (0.16.0)\n",
      "Requirement already satisfied: jsonpointer>=1.9 in c:\\users\\mhamu\\enterprise_chatbot_fn\\venv\\lib\\site-packages (from jsonpatch<2.0,>=1.33->langchain-core<1.0.0,>=0.3.66->langchain-community) (3.0.0)\n",
      "Requirement already satisfied: annotated-types>=0.6.0 in c:\\users\\mhamu\\enterprise_chatbot_fn\\venv\\lib\\site-packages (from pydantic<3.0.0,>=2.7.4->langchain<1.0.0,>=0.3.26->langchain-community) (0.7.0)\n",
      "Requirement already satisfied: pydantic-core==2.33.2 in c:\\users\\mhamu\\enterprise_chatbot_fn\\venv\\lib\\site-packages (from pydantic<3.0.0,>=2.7.4->langchain<1.0.0,>=0.3.26->langchain-community) (2.33.2)\n",
      "Collecting mypy-extensions>=0.3.0 (from typing-inspect<1,>=0.4.0->dataclasses-json<0.7,>=0.5.7->langchain-community)\n",
      "  Using cached mypy_extensions-1.1.0-py3-none-any.whl.metadata (1.1 kB)\n",
      "Requirement already satisfied: sniffio>=1.1 in c:\\users\\mhamu\\enterprise_chatbot_fn\\venv\\lib\\site-packages (from anyio->httpx<1,>=0.23.0->langsmith>=0.1.125->langchain-community) (1.3.1)\n",
      "Downloading langchain_community-0.3.27-py3-none-any.whl (2.5 MB)\n",
      "   ---------------------------------------- 0.0/2.5 MB ? eta -:--:--\n",
      "   --- ------------------------------------ 0.2/2.5 MB 4.6 MB/s eta 0:00:01\n",
      "   -------- ------------------------------- 0.5/2.5 MB 5.4 MB/s eta 0:00:01\n",
      "   ------------- -------------------------- 0.9/2.5 MB 6.8 MB/s eta 0:00:01\n",
      "   ----------------- ---------------------- 1.1/2.5 MB 6.5 MB/s eta 0:00:01\n",
      "   -------------------- ------------------- 1.3/2.5 MB 6.5 MB/s eta 0:00:01\n",
      "   ------------------------- -------------- 1.6/2.5 MB 6.3 MB/s eta 0:00:01\n",
      "   --------------------------- ------------ 1.8/2.5 MB 6.2 MB/s eta 0:00:01\n",
      "   ------------------------------- -------- 2.0/2.5 MB 6.1 MB/s eta 0:00:01\n",
      "   --------------------------------- ------ 2.1/2.5 MB 5.6 MB/s eta 0:00:01\n",
      "   ---------------------------------------  2.5/2.5 MB 5.6 MB/s eta 0:00:01\n",
      "   ---------------------------------------- 2.5/2.5 MB 5.4 MB/s eta 0:00:00\n",
      "Using cached dataclasses_json-0.6.7-py3-none-any.whl (28 kB)\n",
      "Downloading httpx_sse-0.4.1-py3-none-any.whl (8.1 kB)\n",
      "Downloading langchain-0.3.27-py3-none-any.whl (1.0 MB)\n",
      "   ---------------------------------------- 0.0/1.0 MB ? eta -:--:--\n",
      "   ------ --------------------------------- 0.2/1.0 MB 3.5 MB/s eta 0:00:01\n",
      "   ------------ --------------------------- 0.3/1.0 MB 3.8 MB/s eta 0:00:01\n",
      "   --------------------- ------------------ 0.6/1.0 MB 4.3 MB/s eta 0:00:01\n",
      "   ---------------------------- ----------- 0.7/1.0 MB 4.1 MB/s eta 0:00:01\n",
      "   ------------------------------------ --- 0.9/1.0 MB 4.2 MB/s eta 0:00:01\n",
      "   ---------------------------------------- 1.0/1.0 MB 4.0 MB/s eta 0:00:00\n",
      "Downloading langchain_core-0.3.72-py3-none-any.whl (442 kB)\n",
      "   ---------------------------------------- 0.0/442.8 kB ? eta -:--:--\n",
      "   ------------------ --------------------- 204.8/442.8 kB 6.1 MB/s eta 0:00:01\n",
      "   --------------------------------- ------ 368.6/442.8 kB 4.6 MB/s eta 0:00:01\n",
      "   ---------------------------------------- 442.8/442.8 kB 3.9 MB/s eta 0:00:00\n",
      "Downloading langsmith-0.4.10-py3-none-any.whl (372 kB)\n",
      "   ---------------------------------------- 0.0/372.0 kB ? eta -:--:--\n",
      "   ---------------------------- ----------- 266.2/372.0 kB 5.4 MB/s eta 0:00:01\n",
      "   ---------------------------------------- 372.0/372.0 kB 3.8 MB/s eta 0:00:00\n",
      "Using cached tenacity-9.1.2-py3-none-any.whl (28 kB)\n",
      "Using cached jsonpatch-1.33-py2.py3-none-any.whl (12 kB)\n",
      "Downloading langchain_text_splitters-0.3.9-py3-none-any.whl (33 kB)\n",
      "Using cached marshmallow-3.26.1-py3-none-any.whl (50 kB)\n",
      "Downloading orjson-3.11.1-cp312-cp312-win_amd64.whl (131 kB)\n",
      "   ---------------------------------------- 0.0/131.4 kB ? eta -:--:--\n",
      "   ------------------------------------- -- 122.9/131.4 kB 3.5 MB/s eta 0:00:01\n",
      "   ---------------------------------------- 131.4/131.4 kB 2.6 MB/s eta 0:00:00\n",
      "Using cached requests_toolbelt-1.0.0-py2.py3-none-any.whl (54 kB)\n",
      "Using cached typing_inspect-0.9.0-py3-none-any.whl (8.8 kB)\n",
      "Using cached zstandard-0.23.0-cp312-cp312-win_amd64.whl (495 kB)\n",
      "Using cached mypy_extensions-1.1.0-py3-none-any.whl (5.0 kB)\n",
      "Installing collected packages: zstandard, tenacity, orjson, mypy-extensions, marshmallow, jsonpatch, httpx-sse, typing-inspect, requests-toolbelt, langsmith, dataclasses-json, langchain-core, langchain-text-splitters, langchain, langchain-community\n",
      "Successfully installed dataclasses-json-0.6.7 httpx-sse-0.4.1 jsonpatch-1.33 langchain-0.3.27 langchain-community-0.3.27 langchain-core-0.3.72 langchain-text-splitters-0.3.9 langsmith-0.4.10 marshmallow-3.26.1 mypy-extensions-1.1.0 orjson-3.11.1 requests-toolbelt-1.0.0 tenacity-9.1.2 typing-inspect-0.9.0 zstandard-0.23.0\n",
      "Note: you may need to restart the kernel to use updated packages.\n"
     ]
    },
    {
     "name": "stderr",
     "output_type": "stream",
     "text": [
      "\n",
      "[notice] A new release of pip is available: 24.0 -> 25.2\n",
      "[notice] To update, run: python.exe -m pip install --upgrade pip\n"
     ]
    }
   ],
   "source": [
    "pip install langchain-community"
   ]
  },
  {
   "cell_type": "code",
   "execution_count": null,
   "id": "1a060bc9-6029-43d9-8a6e-056d6784f483",
   "metadata": {},
   "outputs": [],
   "source": []
  },
  {
   "cell_type": "code",
   "execution_count": null,
   "id": "544c8448-0d31-467f-87db-8ef43cb41554",
   "metadata": {},
   "outputs": [],
   "source": []
  },
  {
   "cell_type": "code",
   "execution_count": null,
   "id": "f6b7d4e9-4799-42c8-87bb-b1d9cf5c862a",
   "metadata": {},
   "outputs": [],
   "source": []
  },
  {
   "cell_type": "code",
   "execution_count": null,
   "id": "f69cbe24-7258-4ed8-80c7-d18fdf6eb3fb",
   "metadata": {},
   "outputs": [],
   "source": []
  },
  {
   "cell_type": "code",
   "execution_count": null,
   "id": "4a3f6904-6acb-4976-84fd-b18286990cad",
   "metadata": {},
   "outputs": [],
   "source": []
  }
 ],
 "metadata": {
  "kernelspec": {
   "display_name": "Python 3 (ipykernel)",
   "language": "python",
   "name": "python3"
  },
  "language_info": {
   "codemirror_mode": {
    "name": "ipython",
    "version": 3
   },
   "file_extension": ".py",
   "mimetype": "text/x-python",
   "name": "python",
   "nbconvert_exporter": "python",
   "pygments_lexer": "ipython3",
   "version": "3.12.3"
  }
 },
 "nbformat": 4,
 "nbformat_minor": 5
}
